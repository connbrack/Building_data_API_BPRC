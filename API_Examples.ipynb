{
 "cells": [
  {
   "cell_type": "markdown",
   "metadata": {},
   "source": [
    "# Kaizen API instructions and examples\n",
    "***"
   ]
  },
  {
   "cell_type": "markdown",
   "metadata": {},
   "source": [
    "\n",
    "*This is intended to be a reference document for the BPRC team working within Carleton University. This documents shows several examples API calls and work flows. Excerpts from Coppertree's documentation are included, along with a working python implementations.\n",
    "<br/><br/>\n",
    "To get supplementary files including Kaizen API login information and runnable examples, contact Connor Brackley (connor.brackley@mail.concordia.ca)*\n",
    "\n",
    "**UPDATE**: Since the initial release of this document, Kaizen has updated their API. The relevant updates are now included in this reference document."
   ]
  },
  {
   "cell_type": "markdown",
   "metadata": {},
   "source": [
    "### **Table of Contents:**\n",
    "- [Reference doucments](#Reference-doucments) <br>\n",
    "- [Notebook setup](#Notebook-setup) <br>\n",
    "- [Public Trend Log API](#Public-Trend-Log-API) <br>\n",
    "- [Batch Download Public Trend Log API](#Batch-Download-Public-Trend-Log-API) <br>\n",
    "- [Access to other API's via the JWT Token](#Access-to-other-API's-via-the-JWT-Token) <br>\n",
    "- [Get list of trend logs](#Get-list-of-trend-logs) <br>\n",
    "- [Get List of Systems and Subordinates](#Get-List-of-Systems-and-Subordinates) <br>\n",
    "- [Example Workflows](#Example-Workflows) <br> \n",
    " - [Workflow 1](#Workflow-1) <br>\n",
    " - [Workflow 2](#Workflow-2) <br>"
   ]
  },
  {
   "cell_type": "markdown",
   "metadata": {},
   "source": [
    "# Reference doucments\n",
    "****\n",
    "Documents referenced to construct this document\n",
    "<br/><br/>\n",
    "1: [KbA0045: API to Pull Data From Kaizen](https://support.coppertreeanalytics.com/knowledge-base/kba/knowledge-base-articles/kba0045-api-to-pull-data-from-kaizen/)\n",
    "<br/>\n",
    "2: [Kaizen Database Upgrades](https://support.coppertreeanalytics.com/news-and-announcements/)"
   ]
  },
  {
   "cell_type": "markdown",
   "metadata": {},
   "source": [
    "# Notebook setup\n",
    "***"
   ]
  },
  {
   "cell_type": "markdown",
   "metadata": {},
   "source": [
    "### Import packages"
   ]
  },
  {
   "cell_type": "code",
   "execution_count": null,
   "metadata": {},
   "outputs": [],
   "source": [
    "# Imports from standard libraries\n",
    "import requests\n",
    "import json\n",
    "import math\n",
    "import pandas as pd\n",
    "%matplotlib inline\n",
    "import matplotlib.pyplot as plt\n",
    "import warnings\n",
    "\n",
    "# Import API puller from supplementary file\n",
    "from API_puller import API_puller"
   ]
  },
  {
   "cell_type": "markdown",
   "metadata": {},
   "source": [
    "### Supplementary functions"
   ]
  },
  {
   "cell_type": "code",
   "execution_count": null,
   "metadata": {},
   "outputs": [],
   "source": [
    "def check_response(r):\n",
    "    '''Checks to ensure the expected response is received\n",
    "    \n",
    "    The accepted response from the API from the API is response [200] this\n",
    "    function outputs raises an error if any other response is recived.\n",
    "    '''\n",
    "    if r.status_code == 200:\n",
    "        return None\n",
    "    else:\n",
    "        raise ImportError('Received: [{}], Expected: [<Response [200]>]'.format(r))"
   ]
  },
  {
   "cell_type": "code",
   "execution_count": null,
   "metadata": {},
   "outputs": [],
   "source": [
    "def print_n_lines(json_var, n_lines=20, indent=2):\n",
    "    '''Pretty prints n lines of json file.\n",
    "    \n",
    "    This is used to make the outputs more compact\n",
    "    '''\n",
    "    pretty_str = str(json.dumps(json_var, indent=indent))\n",
    "    length = len(pretty_str.splitlines())\n",
    "    \n",
    "    print('First {} / {} lines of json file:\\n'.format(n_lines, length))\n",
    "    for line in pretty_str.splitlines()[:n_lines]:\n",
    "        print(line)\n",
    "    print('..............')"
   ]
  },
  {
   "cell_type": "code",
   "execution_count": null,
   "metadata": {},
   "outputs": [],
   "source": [
    "def assign_variables(example_info, specific_use):\n",
    "    \"\"\"Assigns and prints out building information and trend logs used as examples in this document\n",
    "    \"\"\"\n",
    "    \n",
    "    variables = example_info[specific_use]\n",
    "    \n",
    "    outputs = []\n",
    "    for variable in variables:\n",
    "        print(f'{variable} = {variables[variable][0]} # {variables[variable][1]}')\n",
    "        outputs.append(variables[variable][0])\n",
    "    \n",
    "    return outputs  "
   ]
  },
  {
   "cell_type": "markdown",
   "metadata": {},
   "source": [
    "### Load supplementary files"
   ]
  },
  {
   "cell_type": "markdown",
   "metadata": {},
   "source": [
    "This step depends on two text files. (1) the required login information, and (2) the building numbers and example points included. They have been intentionally not been uploaded to GitHub - if you require this file contact Connor Brackley (connor.brackley@mail.concordia.ca)"
   ]
  },
  {
   "cell_type": "code",
   "execution_count": null,
   "metadata": {},
   "outputs": [],
   "source": [
    "# Load text file\n",
    "with open('login_info.txt') as f:\n",
    "    login_info = json.loads(f.read())\n",
    "\n",
    "# Assign variables\n",
    "api_key = login_info['api_key']\n",
    "client_id = login_info['api_key'] # The client ID is the same as the API key\n",
    "client_secret = login_info['client_secret']\n",
    "print('Login info successfully downloaded')"
   ]
  },
  {
   "cell_type": "code",
   "execution_count": null,
   "metadata": {},
   "outputs": [],
   "source": [
    "with open('example_info.txt') as f:\n",
    "    example_info = json.loads(f.read())\n",
    "print('Examples have been successfully downloaded')"
   ]
  },
  {
   "cell_type": "markdown",
   "metadata": {},
   "source": [
    "# Public Trend Log API\n",
    "***"
   ]
  },
  {
   "cell_type": "markdown",
   "metadata": {},
   "source": [
    "Excerpt from Kaizen Documentation:\n",
    "><h3 id=\"To_get_trend_data:\"> To get trend data: </h3>\n",
    "><pre>https://kaizen.coppertreeanalytics.com/public_api/api/get_tl_data_start_end?api_key=&lt;api_key&gt;&amp;tl=&lt;tl_ref&gt;&amp;start=&lt;start_date&gt;&amp;end=&lt;end_date&gt;&amp;format=json&amp;data=&lt;raw or align&gt;\n",
    "></pre>\n",
    ">where: <ul>\n",
    "><li> <strong>api_key</strong> is the user's Kaizen Key. Your API key can be found on the User Profile page.\n",
    "></li> <li> <strong>tl_ref</strong> is the full reference for the trend log, in the format <building_id>.<device_id>.TL<instance_id> <ul>\n",
    "><li> Example: 123.TL45 from the following building: <a class=\"natExternalLink\" href=\"https://kaizen.coppertreeanalytics.com/v3/#/clients/551/buildings/2914\" target=\"_blank\" rel=\"noopener noreferrer\">https://kaizen.coppertreeanalytics.com/v3/#/clients/551/buildings/2914</a> would be 2914.123.TL45. This will also be displayed in the URL when viewing this TL in the Vault.\n",
    "></li></ul>\n",
    "></instance_id></device_id></building_id></li> <li> <strong>start_date</strong> and <strong>end_date</strong> is the desired period start/end dates in the format YYYY-MM-DDThh:mm:ss e.g. 2018-01-01T00:00:00\n",
    "></li> <li> <strong>&amp;data</strong> will determine if data's timestamps should be normalized or left in raw format <ul>\n",
    "><li> <strong>raw</strong> will give the time-stamps and data exactly as they are read from the BAS\n",
    "></li> <li> <strong>align</strong> will normalize the time-stamps to be aligned to 5-minute intervals. This must be defined to replicate the behavior of the BP API for point data.\n",
    "></li></ul>\n",
    "></li></ul>\n",
    "><p></p>\n",
    "><h4 id=\"Curl_Example:\"> Curl Example: </h4>\n",
    "><pre>curl “https://kaizen.coppertreeanalytics.com/public_api/api/get_tl_data_start_end?api_key=&lt;api_key&gt;&amp;tl=&lt;tl_ref&gt;&amp;start=&lt;start_date&gt;&amp;end=&lt;end_date&gt;&amp;format=json&amp;data=raw”\n",
    "></pre>\n",
    "><p></p>"
   ]
  },
  {
   "cell_type": "markdown",
   "metadata": {},
   "source": [
    "### Python Implamentation:"
   ]
  },
  {
   "cell_type": "code",
   "execution_count": null,
   "metadata": {},
   "outputs": [],
   "source": [
    "# Collect Example inputs\n",
    "tl_ref, start_date, end_date = assign_variables(example_info, 'public_api_example')"
   ]
  },
  {
   "cell_type": "code",
   "execution_count": null,
   "metadata": {},
   "outputs": [],
   "source": [
    "# Optional Inputs\n",
    "format_output = 'json'\n",
    "data_normalize = 'raw'\n",
    "\n",
    "# Generate URL\n",
    "url = 'https://kaizen.coppertreeanalytics.com/public_api/api/get_tl_data_start_end?' \\\n",
    "      'api_key={}&tl={}&start={}&end={}&format={}&data={}'.format(\n",
    "            api_key, tl_ref, start_date, end_date, format_output, data_normalize)\n",
    "\n",
    "# Download data from public API\n",
    "r = requests.get(url)\n",
    "check_response(r)\n",
    "\n",
    "print_n_lines(r.json(), n_lines=20)"
   ]
  },
  {
   "cell_type": "markdown",
   "metadata": {},
   "source": [
    "# Batch Download Public Trend Log API\n",
    "***"
   ]
  },
  {
   "cell_type": "markdown",
   "metadata": {},
   "source": [
    "Currently there is not built in method to batch load trend logs, however the function included here takes advantage of the public trend log API to download and organize a list of trend logs."
   ]
  },
  {
   "cell_type": "markdown",
   "metadata": {},
   "source": [
    "**API_puller documentation:**\n",
    "\n",
    "    Retrieves data from Coppertree Analytics Kaizen API and organizes it into a single dataframe\n",
    "\n",
    "    This function utilizes multithreading for to increase speed of API processing\n",
    "\n",
    "    Parameters\n",
    "    ----------\n",
    "    trend_log_list : Pandas Dataframe\n",
    "        a two column pandas dataframe with the trend log controller number in the in the first column\n",
    "        and the name of the trend log in the second column\n",
    "\n",
    "    API_key: str\n",
    "         Your api key, which can be accessed through you're Kaizen account\n",
    "\n",
    "    date_range: list, Format: ['YYYY-MM-DD', 'YYYY-MM-DD']\n",
    "          a list of two date strings indicating start date and end date.\n",
    "          Note: The date range is non inclusive, so the \"end date\" is not included in the API call\n",
    "\n",
    "    resample: int, optional (default = none)\n",
    "        Resample dataframe in minutes. For example to resample every 1 hour, enter resample=60.\n",
    "        If none is received, no resampling will occur (warning: this may result in large outputs if\n",
    "        event based sensors are included in query)\n",
    "\n",
    "    Returns\n",
    "    -------\n",
    "    Dataframe\n",
    "        Dataframe of the requested sensor inputs"
   ]
  },
  {
   "cell_type": "markdown",
   "metadata": {},
   "source": [
    "### Python Implamentation:"
   ]
  },
  {
   "cell_type": "code",
   "execution_count": null,
   "metadata": {},
   "outputs": [],
   "source": [
    "# Collect Example inputs\n",
    "[trend_logs, labels] = assign_variables(example_info, 'batch_download')"
   ]
  },
  {
   "cell_type": "code",
   "execution_count": null,
   "metadata": {},
   "outputs": [],
   "source": [
    "# Convert trend log lists into dataframe\n",
    "trend_log_list = pd.DataFrame(list(zip(trend_logs, labels)), columns =['_id', 'object_name'])\n",
    "\n",
    "# Employ API puller\n",
    "df = API_puller(\n",
    "    trend_log_list=trend_log_list,\n",
    "    API_key=api_key,\n",
    "    date_range=['2019-01-01', '2020-01-01'],\n",
    "    resample=15\n",
    ")\n",
    "\n",
    "# Output resulting dataframe\n",
    "df"
   ]
  },
  {
   "cell_type": "markdown",
   "metadata": {},
   "source": [
    "# Access to other API's via the JWT Token\n",
    "***"
   ]
  },
  {
   "cell_type": "markdown",
   "metadata": {},
   "source": [
    "***Before accessing the other APIs, you need to get a JWT token. This acts as an added layer of security***"
   ]
  },
  {
   "cell_type": "markdown",
   "metadata": {},
   "source": [
    "Excerpt from Kaizen Documentation:\n",
    "><h2 id=\"Get_JWT_Token\"> Get JWT Token </h2>\n",
    "><p></p>\n",
    ">First, the identity of the user must be confirmed to ensure that site data is going into the right hands. This is done through the production of an Auth0 JWT token.\n",
    "><p></p>\n",
    ">Reach out to <a href=\"mailto:customersolutions@coppertreeanalytics.com\">customersolutions@coppertreeanalytics.com</a> and mention that you would like to work with the Insights API. You will receive a Client_ID and Client_Secret; use these parameters with the following cURL command to produce the token:\n",
    "><pre>curl --request POST \\ \n",
    ">     --url https://login-global.coppertreeanalytics.com/oauth/token\n",
    ">     --header \"content-type: application/x-www-form-urlencoded\"\n",
    ">     --data \"grant_type=client_credentials\"\n",
    ">     --data \"client_id=&lt;client_id&gt;\"\n",
    ">     --data \"client_secret=&lt;client_secret&gt;\"\n",
    ">     --data \"audience=organize\"\n",
    "></pre>\n",
    "><p></p>\n",
    ">Once a user acquires a token, they can use it to pull data\n",
    "><p></p>"
   ]
  },
  {
   "cell_type": "markdown",
   "metadata": {},
   "source": [
    "### Python Implamentation:"
   ]
  },
  {
   "cell_type": "code",
   "execution_count": null,
   "metadata": {},
   "outputs": [],
   "source": [
    "url = 'https://login-global.coppertreeanalytics.com/oauth/token'\n",
    "\n",
    "my_header = {'content-type': 'application/x-www-form-urlencoded'}\n",
    "my_data = {\n",
    "    'grant_type': 'client_credentials',\n",
    "    'client_id': client_id,\n",
    "    'client_secret': client_secret,\n",
    "    'audience': 'organize'\n",
    "}\n",
    "\n",
    "r = requests.post(url, headers=my_header, data=my_data)\n",
    "check_response(r)\n",
    "access_token = r.json()['access_token']\n",
    "jwt_header = {'Authorization': 'Bearer ' + access_token}\n",
    "print('Access token has been obtained')"
   ]
  },
  {
   "cell_type": "markdown",
   "metadata": {},
   "source": [
    "# Get list of trend logs\n",
    "***"
   ]
  },
  {
   "cell_type": "markdown",
   "metadata": {},
   "source": [
    "Excerpt from Kaizen Documentation:\n",
    "><h3 id=\"To_get_a_list_of_trend_logs_for_a_building:\"> To get a list of trend logs for a building: </h3>\n",
    "><pre>https://kaizen.coppertreeanalytics.com/api/v3/trend_log_objects/?building={};\n",
    "></pre>\n",
    ">where: <ul>\n",
    "><li> <building_id> is the id for the building.\n",
    "></building_id></li> <li> Make sure to add an authorization header:\n",
    "></li> <li> \"Authorization token <api_key>\" where <api_key> is the user's Kaizen Key\n",
    "></api_key></api_key></li> <li> Pagination: <ul>\n",
    "><li> Add \"&amp;page={page_number}\" where page_number is the page you want to view.\n",
    "><li> Add \"&amp;page_size={page size}\" where page size is the number of sensors that apear per page.\n",
    "></page_number></li></ul>\n",
    "></li></ul>\n",
    "><p></p>\n",
    "><h4 id=\"Curl_Example:_AN1\"> Curl Example: </h4>\n",
    "><pre>curl -H \"Authorization: token &lt;api_key&gt;” “https://kaizen.coppertreeanalytics.com/api/v3/trend_log_objects/?building=&lt;building_id&gt;&amp;page=1”\n",
    "></pre>"
   ]
  },
  {
   "cell_type": "markdown",
   "metadata": {},
   "source": [
    "### Update:\n",
    ">replace:\n",
    "><pre>https://kaizen.coppertreeanalytics.com/api/v3/trend_log_objects/?building={}</pre>\n",
    ">with\n",
    "><pre>https://kaizen.coppertreeanalytics.com/yana/mongo/objects/?building={}&object_type=TL&min_device_index=1</pre>\n",
    ">*Note: records with min_device_index of 0 (less than one) are built in kaizen analytics*"
   ]
  },
  {
   "cell_type": "markdown",
   "metadata": {},
   "source": [
    "### Python Implamentation"
   ]
  },
  {
   "cell_type": "code",
   "execution_count": null,
   "metadata": {},
   "outputs": [],
   "source": [
    "# Collect Example inputs\n",
    "[building_number] = assign_variables(example_info, 'trend_log_list')"
   ]
  },
  {
   "cell_type": "code",
   "execution_count": null,
   "metadata": {},
   "outputs": [],
   "source": [
    "# Set up URL\n",
    "url = 'https://kaizen.coppertreeanalytics.com/yana/mongo/objects/?building={}&object_type=TL&min_device_index=1'.format(\n",
    "    building_number\n",
    ")\n",
    "\n",
    "# Perform API Call\n",
    "r = requests.get(url, headers=jwt_header)\n",
    "check_response(r)\n",
    "\n",
    "# Check response and print results\n",
    "print_n_lines(r.json(), n_lines=50)"
   ]
  },
  {
   "cell_type": "markdown",
   "metadata": {},
   "source": [
    "<font color=red> ***Note: not all trend logs were returned in a single call, you must set page size accordingly (see work flow 1 as an example)*** </font>"
   ]
  },
  {
   "cell_type": "markdown",
   "metadata": {},
   "source": [
    "# Get List of Systems and Subordinates\n",
    "***"
   ]
  },
  {
   "cell_type": "markdown",
   "metadata": {},
   "source": [
    "Excerpt from Kaizen Documentation:\n",
    "><h3 id=\"Get_data_from_the_Systems_feature\"> Get data from the Systems feature </h3>\n",
    "><p></p>\n",
    ">To get a list of all Systems you can use this resource:<br>\n",
    "><a class=\"natExternalLink\" href=\"https://kaizen.coppertreeanalytics.com/api/v3/systems/?building=[building_id]\" target=\"_blank\" rel=\"noopener noreferrer\">https://kaizen.coppertreeanalytics.com/api/v3/systems/?building=[building_id]</a> where the Building_ID can be found in the URL of any page in the Building.<br>\n",
    "><strong>This endpoint uses pagination. Each call returns 500 results.</strong>\n",
    "><p></p>\n",
    "><h3 id=\"Example_API_call\"> Example API call </h3>\n",
    "><p></p>\n",
    ">cURL Example to get a list of all Systems:\n",
    "><pre>curl --request GET \\\n",
    ">     --url https://kaizen.coppertreeanalytics.com/api/v3/systems/?building=2156 \\\n",
    ">     --header \"Authorization: Bearer &lt;jwt access_token&gt;\"\n",
    "></pre>"
   ]
  },
  {
   "cell_type": "markdown",
   "metadata": {},
   "source": [
    "### Update:\n",
    ">replace:\n",
    "><pre>https://kaizen.coppertreeanalytics.com/api/v3/systems/?building=2156</pre>\n",
    ">with\n",
    "><pre>https://kaizen.coppertreeanalytics.com/yana/mongo/systems/?building=2156</pre>"
   ]
  },
  {
   "cell_type": "markdown",
   "metadata": {},
   "source": [
    "### Python Implamentation:"
   ]
  },
  {
   "cell_type": "code",
   "execution_count": null,
   "metadata": {},
   "outputs": [],
   "source": [
    "# Collect Example inputs\n",
    "[building_number] = assign_variables(example_info, 'system_list')"
   ]
  },
  {
   "cell_type": "code",
   "execution_count": null,
   "metadata": {
    "scrolled": false
   },
   "outputs": [],
   "source": [
    "url = 'https://kaizen.coppertreeanalytics.com/yana/mongo/systems/?building={}'.format(\n",
    "    building_number\n",
    ")\n",
    "\n",
    "r = requests.get(url, headers=jwt_header)\n",
    "check_response(r)\n",
    "\n",
    "# Print first n lines of output\n",
    "print_n_lines(r.json(), n_lines=50)"
   ]
  },
  {
   "cell_type": "markdown",
   "metadata": {},
   "source": [
    "<font color=red> ***Note: not all systems were returned in a single call, to get full list you must cycle through pages (see work flow 2 as an example)*** </font>"
   ]
  },
  {
   "cell_type": "markdown",
   "metadata": {},
   "source": [
    "Other available options related to system searches <font color=red>(warning: this information may now be outdated)<font>\n",
    "><pre>\n",
    ">GET https://kaizen.coppertreeanalytics.com/api/v3/systems/?building={bldg}\n",
    "># Get systems of a building with default page_size=10\n",
    "># Default sort, device_index ascending and object_type ascending\n",
    ">\n",
    ">GET https://kaizen.coppertreeanalytics.com/api/v3/systems/?building={bldg}&search=valve\n",
    "># Get systems of building which 'Tags', 'Subordinate_Tags', 'Subordinate_List' has \"valve\"\n",
    ">\n",
    ">GET https://kaizen.coppertreeanalytics.com/api/v3/systems/?building={bldg}&ordering=-device_index\n",
    "># Get systems of a building with device_index descending order\n",
    ">\n",
    ">GET https://kaizen.coppertreeanalytics.com/api/v3/systems/?building={bldg}&device_index=0\n",
    "># Get systems whose device_index is 0\n",
    ">\n",
    ">GET https://kaizen.coppertreeanalytics.com/api/v3/systems/?building={bldg}&page_size=20\n",
    "># Get systems of a building with page_size=20\n",
    "></pre>"
   ]
  },
  {
   "cell_type": "markdown",
   "metadata": {},
   "source": [
    "# Example Workflows\n",
    "___"
   ]
  },
  {
   "cell_type": "markdown",
   "metadata": {},
   "source": [
    "### Workflow 1"
   ]
  },
  {
   "cell_type": "markdown",
   "metadata": {},
   "source": [
    "Use api to list your needed trend logs. This is done by getting a list of all trend logs and then filtering as needed. This is particularly useful when you need to get a long list of trend logs, where Kaizens build in search functionality can be particularly limiting."
   ]
  },
  {
   "cell_type": "code",
   "execution_count": null,
   "metadata": {},
   "outputs": [],
   "source": [
    "# Collect Example inputs\n",
    "[building_number, controller_min_max, keyword_list] = assign_variables(example_info, 'example_1')"
   ]
  },
  {
   "cell_type": "code",
   "execution_count": null,
   "metadata": {},
   "outputs": [],
   "source": [
    "# Initial API query gets sensor count\n",
    "url = 'https://kaizen.coppertreeanalytics.com/yana/mongo/objects/?building={}&object_type=TL&min_device_index=1&page_size=1'.format(building_number)\n",
    "r = requests.get(url, headers=jwt_header)\n",
    "count = r.json()['meta']['pagination']['count']\n",
    "\n",
    "# Second API query gets full sensor list\n",
    "url = 'https://kaizen.coppertreeanalytics.com/yana/mongo/objects/?building={}&object_type=TL&min_device_index=1&page_size={}'.format(building_number, count)\n",
    "r = requests.get(url, headers=jwt_header)\n",
    "\n",
    "# Convert to pandas dataframe\n",
    "df = pd.DataFrame.from_dict(r.json()['results'])[['_id', 'Object_Name']]"
   ]
  },
  {
   "cell_type": "code",
   "execution_count": null,
   "metadata": {},
   "outputs": [],
   "source": [
    "def filter_tl_list(df, search_items, method='controller'):\n",
    "    \"\"\"This function filters a TL list based on the search item and method.\n",
    "    \n",
    "    Parameters\n",
    "    ----------\n",
    "    df : Pandas Dataframe\n",
    "         Dataframe with all building sensors\n",
    "         \n",
    "    Search items: list\n",
    "         List of seach items as strings.\n",
    "    \n",
    "    Search items: 'keyword', 'controller', 'trend_log', default 'controller'\n",
    "          keyword searches object names for text string\n",
    "          Controler searches controller number\n",
    "          Trend log searchers \n",
    "\n",
    "    Raises\n",
    "    ------\n",
    "        If any of the search criteria's produces no logs this function will produce a warning\n",
    "        \n",
    "        If the search criteria results in duplicate's this function will remove them and \n",
    "        produce a warning\n",
    "        \n",
    "    \n",
    "    Returns\n",
    "    -------\n",
    "    df_filtered, Dataframe\n",
    "        Filtered dataframe based on input parameters\n",
    "    \n",
    "    \"\"\"\n",
    "    \n",
    "    # Check Input Criteria\n",
    "    if type(search_items) is not list:\n",
    "        raise TypeError('search_item should be a list')\n",
    "    if method not in ['keyword', 'controller', 'trend_log']:\n",
    "        raise ValueError('search method input not recognized')\n",
    "\n",
    "    # Convert inputs to str to allow integers as inputs \n",
    "    search_items = map(str, search_items)\n",
    "    \n",
    "    # Initialize dataframe\n",
    "    df_filtered = pd.DataFrame()\n",
    "    \n",
    "    # Loop through search items and filter based on search method\n",
    "    for search_item in search_items:\n",
    "        if method == 'keyword':\n",
    "            df_search = df[df['Object_Name'].str.contains(search_item)]\n",
    "        elif method == 'controller':\n",
    "            df_search = df[df['_id'].str.contains('.'+search_item+'.')]\n",
    "        elif method == 'trend_log':\n",
    "            df_search = df[df['_id'].str.contains('.TL'+'.'+search_item)]\n",
    "\n",
    "        # If search produces no logs, output a warning warning, if results found not append to dataframe\n",
    "        if df_search.empty:\n",
    "            warn_txt = 'search item [{}] yeilded no results'.format(search_item)\n",
    "            warnings.warn(warn_txt)\n",
    "        else:\n",
    "            df_filtered = df_filtered.append(df_search)\n",
    "    \n",
    "    # Count duplicates and warn user if any are found\n",
    "    duplicate_count = df_filtered.duplicated(subset='_id', keep='first').sum()\n",
    "    if duplicate_count != 0:\n",
    "            warn_txt = '{} duplicate values were found and removed, consider refining search keywords'.format(duplicate_count)\n",
    "            warnings.warn(warn_txt) \n",
    "    \n",
    "    # Drop duplicates and reset index on output\n",
    "    df_filtered = df_filtered.drop_duplicates().reset_index(drop=True)\n",
    "    return df_filtered"
   ]
  },
  {
   "cell_type": "code",
   "execution_count": null,
   "metadata": {
    "scrolled": false
   },
   "outputs": [],
   "source": [
    "#Example search: search first by contoller and then by keyword\n",
    "controller_list = list(range(int(controller_min_max[0]), int(controller_min_max[1])))\n",
    "\n",
    "df_filtered = filter_tl_list(df, controller_list, method='controller')\n",
    "df_filtered = filter_tl_list(df_filtered, keyword_list, method='keyword')\n",
    "df_filtered"
   ]
  },
  {
   "cell_type": "code",
   "execution_count": null,
   "metadata": {},
   "outputs": [],
   "source": [
    "# The API_puller can be found in \"API_puller.py\"\n",
    "# This function uses the Keizens public API to retrieve sensor data \n",
    "trend_logs = API_puller(\n",
    "    trend_log_list=df_filtered,\n",
    "    API_key=api_key,\n",
    "    date_range=['2019-01-01', '2020-01-01'],\n",
    "    resample=15\n",
    ")"
   ]
  },
  {
   "cell_type": "code",
   "execution_count": null,
   "metadata": {
    "scrolled": false
   },
   "outputs": [],
   "source": [
    "# Plot data retrieved from the API\n",
    "ax = trend_logs.plot(figsize=(15,8), title='Data downloaded from API', ylabel='Temperature (°C)', xlabel='Timescale')\n",
    "ax.legend(bbox_to_anchor=(1.0, 1.0));"
   ]
  },
  {
   "cell_type": "markdown",
   "metadata": {},
   "source": [
    "#### Ideas for future implementation:\n",
    " - Incorporate \"Notify_Type\" Parameter to differentiate handing of event based and time step based recordings"
   ]
  },
  {
   "cell_type": "markdown",
   "metadata": {},
   "source": [
    "### Workflow 2\n",
    "Use api to access systems and subordinates using tags."
   ]
  },
  {
   "cell_type": "code",
   "execution_count": null,
   "metadata": {},
   "outputs": [],
   "source": [
    "# Collect Example inputs\n",
    "[building_number] = assign_variables(example_info, 'example_2')"
   ]
  },
  {
   "cell_type": "code",
   "execution_count": null,
   "metadata": {
    "scrolled": false
   },
   "outputs": [],
   "source": [
    "url = 'https://kaizen.coppertreeanalytics.com/yana/mongo/systems/?building={}&page_size=1'.format(\n",
    "    building_number\n",
    ")\n",
    "r = requests.get(url, headers=jwt_header)\n",
    "count = r.json()['meta']['pagination']['count']\n",
    "\n",
    "url = 'https://kaizen.coppertreeanalytics.com/yana/mongo/systems/?building={}&page_size={}'.format(\n",
    "    building_number, count\n",
    ")\n",
    "r = requests.get(url, headers=jwt_header)"
   ]
  },
  {
   "cell_type": "code",
   "execution_count": null,
   "metadata": {
    "scrolled": false
   },
   "outputs": [],
   "source": [
    "# Create dataframe\n",
    "df = pd.json_normalize(r.json()['results'])\n",
    "df = df.apply(lambda x: x.explode() if x.name in ['Subordinate_Annotations', 'Subordinate_List', 'Subordinate_Tags'] else x)"
   ]
  },
  {
   "cell_type": "code",
   "execution_count": null,
   "metadata": {},
   "outputs": [],
   "source": [
    "search_term = 'Mixed Air Temperature'\n",
    "df_filtered = df[df['Subordinate_Tags']==search_term]\n",
    "df_filtered = df_filtered.drop_duplicates(subset='Subordinate_List', keep=\"first\")\n",
    "df_filtered = df_filtered[['Subordinate_List', 'Subordinate_Annotations']]\n",
    "df_filtered['Subordinate_List'] = str(building_number) + '.' + df_filtered['Subordinate_List'].astype(str)\n",
    "df_filtered"
   ]
  },
  {
   "cell_type": "code",
   "execution_count": null,
   "metadata": {},
   "outputs": [],
   "source": [
    "df = API_puller(\n",
    "    trend_log_list=df_filtered,\n",
    "    API_key=api_key,\n",
    "    date_range=['2019-01-01', '2020-01-01'],\n",
    "    resample=15\n",
    ")"
   ]
  },
  {
   "cell_type": "code",
   "execution_count": null,
   "metadata": {},
   "outputs": [],
   "source": [
    "ax = df.plot(figsize=(15,8), title='Data downloaded from API',ylabel='°C', xlabel='Timescale')\n",
    "ax.legend(bbox_to_anchor=(1.0, 1.0));"
   ]
  },
  {
   "cell_type": "markdown",
   "metadata": {},
   "source": [
    "#### Ideas for future implementation:\n",
    " - Organize API calls based on system hierarchy"
   ]
  },
  {
   "cell_type": "code",
   "execution_count": null,
   "metadata": {},
   "outputs": [],
   "source": []
  }
 ],
 "metadata": {
  "kernelspec": {
   "display_name": "Kaizen_API_env",
   "language": "python",
   "name": "kaizen_api_env"
  },
  "language_info": {
   "codemirror_mode": {
    "name": "ipython",
    "version": 3
   },
   "file_extension": ".py",
   "mimetype": "text/x-python",
   "name": "python",
   "nbconvert_exporter": "python",
   "pygments_lexer": "ipython3",
   "version": "3.8.12"
  }
 },
 "nbformat": 4,
 "nbformat_minor": 4
}
