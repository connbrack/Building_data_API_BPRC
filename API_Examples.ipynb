{
 "cells": [
  {
   "cell_type": "markdown",
   "metadata": {},
   "source": [
    "# Kaizen API instructions and examples\n",
    "***"
   ]
  },
  {
   "cell_type": "markdown",
   "metadata": {},
   "source": [
    "\n",
    "*This is intended to be a reference document for the BPRC team working within Carleton University. This documents shows several examples API calls and work flows. Excerpts from Coppertree's documentation are included, along with a working python implementations.\n",
    "<br/><br/>\n",
    "To get supplementary files including Kaizen API login information and runnable examples, contact Connor Brackley (connor.brackley@mail.concordia.ca)*\n",
    "\n",
    "**UPDATE**: Since the initial release of this document, Kaizen has updated their API. The relevant updates are now included in this reference document."
   ]
  },
  {
   "cell_type": "markdown",
   "metadata": {},
   "source": [
    "### **Table of Contents:**\n",
    "- [Reference documents](#Reference-doucments) <br>\n",
    "- [Notebook setup](#Notebook-setup) <br>\n",
    "- [Public Trend Log API](#Public-Trend-Log-API) <br>\n",
    "- [Batch Download Public Trend Log API](#Batch-Download-Public-Trend-Log-API) <br>\n",
    "- [Access to other API's via the JWT Token](#Access-to-other-API's-via-the-JWT-Token) <br>\n",
    "- [Get list of trend logs](#Get-list-of-trend-logs) <br>\n",
    "- [Get List of Systems and Subordinates](#Get-List-of-Systems-and-Subordinates) <br>\n",
    "- [Example Workflows](#Example-Workflows) <br> \n",
    " - [Workflow 1](#Workflow-1) <br>\n",
    " - [Workflow 2](#Workflow-2) <br>"
   ]
  },
  {
   "cell_type": "markdown",
   "metadata": {},
   "source": [
    "# Reference doucments\n",
    "****\n",
    "Documents referenced to construct this document\n",
    "<br/><br/>\n",
    "1: [KbA0045: API to Pull Data From Kaizen](https://support.coppertreeanalytics.com/knowledge-base/kba/knowledge-base-articles/kba0045-api-to-pull-data-from-kaizen/)\n",
    "<br/>\n",
    "2: [Kaizen Database Upgrades](https://support.coppertreeanalytics.com/news-and-announcements/)"
   ]
  },
  {
   "cell_type": "markdown",
   "metadata": {},
   "source": [
    "# Notebook setup\n",
    "***"
   ]
  },
  {
   "cell_type": "markdown",
   "metadata": {},
   "source": [
    "### Import packages"
   ]
  },
  {
   "cell_type": "code",
   "execution_count": null,
   "metadata": {},
   "outputs": [],
   "source": [
    "# Imports from standard libraries\n",
    "import requests\n",
    "import json\n",
    "import pandas as pd\n",
    "import matplotlib.pyplot as plt\n",
    "%matplotlib inline\n",
    "\n",
    "\n",
    "# Import API puller from supplementary file\n",
    "from API_puller import API_puller"
   ]
  },
  {
   "cell_type": "markdown",
   "metadata": {},
   "source": [
    "### Supplementary functions"
   ]
  },
  {
   "cell_type": "code",
   "execution_count": null,
   "metadata": {},
   "outputs": [],
   "source": [
    "def check_response(r):\n",
    "    '''Checks to ensure the expected response is received\n",
    "    \n",
    "    The accepted response from the API from the API is response [200] this\n",
    "    function outputs raises an error if any other response is received.\n",
    "    '''\n",
    "    if r.status_code == 200:\n",
    "        return None\n",
    "    else:\n",
    "        raise ImportError(f'Received: Response [{r.status_code}], Expected: Response [200]')"
   ]
  },
  {
   "cell_type": "code",
   "execution_count": null,
   "metadata": {},
   "outputs": [],
   "source": [
    "def print_n_lines(json_var, n_lines=20, indent=2):\n",
    "    '''Pretty prints n lines of json file.\n",
    "    \n",
    "    This is used to make the outputs more compact\n",
    "    '''\n",
    "    pretty_str = str(json.dumps(json_var, indent=indent))\n",
    "    length = len(pretty_str.splitlines())\n",
    "    \n",
    "    print(f'First {n_lines} / {length} lines of json file:\\n')\n",
    "    for line in pretty_str.splitlines()[:n_lines]:\n",
    "        print(line)\n",
    "    print('..............')"
   ]
  },
  {
   "cell_type": "markdown",
   "metadata": {},
   "source": [
    "### Load supplementary files"
   ]
  },
  {
   "cell_type": "markdown",
   "metadata": {},
   "source": [
    "This step depends on a text file with the the required login information. It have been intentionally not been uploaded to GitHub - if you require this file contact Connor Brackley (connor.brackley@mail.concordia.ca)"
   ]
  },
  {
   "cell_type": "code",
   "execution_count": null,
   "metadata": {},
   "outputs": [],
   "source": [
    "# Load text file\n",
    "with open('login_info_v1.txt') as f:\n",
    "    login_info = json.loads(f.read())\n",
    "\n",
    "# Assign variables\n",
    "api_key = login_info['api_key']\n",
    "client_id = login_info['api_key'] # The client ID is the same as the API key\n",
    "client_secret = login_info['client_secret']\n",
    "print('Login info successfully downloaded')"
   ]
  },
  {
   "cell_type": "markdown",
   "metadata": {},
   "source": [
    "# Public Trend Log API\n",
    "***"
   ]
  },
  {
   "cell_type": "markdown",
   "metadata": {},
   "source": [
    "Excerpt from Kaizen Documentation:\n",
    "><h3 id=\"To_get_trend_data:\"> To get trend data: </h3>\n",
    "><pre>https://kaizen.coppertreeanalytics.com/public_api/api/get_tl_data_start_end?api_key=&lt;api_key&gt;&amp;tl=&lt;tl_ref&gt;&amp;start=&lt;start_date&gt;&amp;end=&lt;end_date&gt;&amp;format=json&amp;data=&lt;raw or align&gt;\n",
    "></pre>\n",
    ">where: <ul>\n",
    "><li> <strong>api_key</strong> is the user's Kaizen Key. Your API key can be found on the User Profile page.\n",
    "></li> <li> <strong>tl_ref</strong> is the full reference for the trend log, in the format <building_id>.<device_id>.TL<instance_id> <ul>\n",
    "><li> Example: 123.TL45 from the following building: <a class=\"natExternalLink\" href=\"https://kaizen.coppertreeanalytics.com/v3/#/clients/551/buildings/2914\" target=\"_blank\" rel=\"noopener noreferrer\">https://kaizen.coppertreeanalytics.com/v3/#/clients/551/buildings/2914</a> would be 2914.123.TL45. This will also be displayed in the URL when viewing this TL in the Vault.\n",
    "></li></ul>\n",
    "></instance_id></device_id></building_id></li> <li> <strong>start_date</strong> and <strong>end_date</strong> is the desired period start/end dates in the format YYYY-MM-DDThh:mm:ss e.g. 2018-01-01T00:00:00\n",
    "></li> <li> <strong>&amp;data</strong> will determine if data's timestamps should be normalized or left in raw format <ul>\n",
    "><li> <strong>raw</strong> will give the time-stamps and data exactly as they are read from the BAS\n",
    "></li> <li> <strong>align</strong> will normalize the time-stamps to be aligned to 5-minute intervals. This must be defined to replicate the behavior of the BP API for point data.\n",
    "></li></ul>\n",
    "></li></ul>\n",
    "><p></p>\n",
    "><h4 id=\"Curl_Example:\"> Curl Example: </h4>\n",
    "><pre>curl “https://kaizen.coppertreeanalytics.com/public_api/api/get_tl_data_start_end?api_key=&lt;api_key&gt;&amp;tl=&lt;tl_ref&gt;&amp;start=&lt;start_date&gt;&amp;end=&lt;end_date&gt;&amp;format=json&amp;data=raw”\n",
    "></pre>\n",
    "><p></p>"
   ]
  },
  {
   "cell_type": "markdown",
   "metadata": {},
   "source": [
    "### Python Implamentation:"
   ]
  },
  {
   "cell_type": "code",
   "execution_count": null,
   "metadata": {},
   "outputs": [],
   "source": [
    "# Example inputs\n",
    "tl_ref = '5606.490407.TL9' # ID tags, Building ID can be found in Kaizen URL \n",
    "start_date = '2021-01-01T00:00:00' # Start date and time\n",
    "end_date = '2022-01-01T00:00:00' # End date and time (Non Inclusive)\n",
    "\n",
    "# Optional Inputs\n",
    "format_output = 'json'\n",
    "data_normalize = 'raw'\n",
    "\n",
    "# Generate URL\n",
    "url = f'https://kaizen.coppertreeanalytics.com/public_api/api/get_tl_data_start_end?' \\\n",
    "      f'api_key={api_key}&tl={tl_ref}&start={start_date}&end={end_date}&format={format_output}&data={data_normalize}'\n",
    "\n",
    "# Download data from public API\n",
    "r = requests.get(url)\n",
    "check_response(r)\n",
    "\n",
    "#Print first 20 calls\n",
    "r.json()[:20]"
   ]
  },
  {
   "cell_type": "markdown",
   "metadata": {},
   "source": [
    "# Batch Download Public Trend Log API\n",
    "***"
   ]
  },
  {
   "cell_type": "markdown",
   "metadata": {},
   "source": [
    "Currently there is not built in method to batch load trend logs, however the function included here takes advantage of the public trend log API to download and organize a list of trend logs."
   ]
  },
  {
   "cell_type": "markdown",
   "metadata": {},
   "source": [
    "**API_puller documentation:**\n",
    "\n",
    "    Retrieves data from Coppertree Analytics Kaizen API and organizes it into a single dataframe\n",
    "\n",
    "    This function utilizes multithreading for to increase speed of API processing\n",
    "\n",
    "    Parameters\n",
    "    ----------\n",
    "    trend_log_list (Pandas Dataframe):\n",
    "        a two column pandas dataframe with the trend log controller number in the in the first column\n",
    "        and the name of the trend log in the second column\n",
    "\n",
    "    API_key (str):\n",
    "         <!-- Your api key, which can be accessed through you're Kaizen account -->\n",
    "\n",
    "    date_range (list): Format: ['YYYY-MM-DD', 'YYYY-MM-DD']\n",
    "          a list of two date strings indicating start date and end date.\n",
    "          Note: The date range is non inclusive, so the \"end date\" is not included in the API call\n",
    "\n",
    "    resample (int, optional): Defaults to None.\n",
    "        Resample dataframe in minutes. For example to resample every 1 hour, enter resample=60. Fill method\n",
    "        is based on previous within the resample timeframe. If there is no samples, NaN is returned\n",
    "        If none is received, no resampling will occur (warning: this may result in large outputs if\n",
    "        event based sensors are included in query)\n",
    "\n",
    "    max_workers (int, optional): Defaults to None.\n",
    "        The number of threads that will be used to perform API calls. Use None in most cases. Lower numbers\n",
    "        may reduce errors by reducing frequency of calls to the API. Some trial and error is required here.\n",
    "\n",
    "    Returns\n",
    "    -------\n",
    "    Dataframe\n",
    "        Dataframe of the requested sensor inputs"
   ]
  },
  {
   "cell_type": "markdown",
   "metadata": {},
   "source": [
    "### Python Implamentation:"
   ]
  },
  {
   "cell_type": "code",
   "execution_count": null,
   "metadata": {},
   "outputs": [],
   "source": [
    "# Example inputs\n",
    "trend_logs = ['5606.490405.TL9', '5606.490405.TL1', '5606.490405.TL11'] # ID tags\n",
    "labels = ['HS_RM3301_RMT_TL', 'HS_RM3301_LUX1_TL', 'HS_RM3301_CO2_TL'] # labels\n",
    "\n",
    "# Convert trend log lists into dataframe\n",
    "trend_log_list = pd.DataFrame(list(zip(trend_logs, labels)), columns =['_id', 'object_name'])\n",
    "\n",
    "# Employ API puller\n",
    "df = API_puller(\n",
    "    trend_log_list=trend_log_list,\n",
    "    API_key=api_key,\n",
    "    date_range=['2019-01-01', '2020-01-01'],\n",
    "    resample=60\n",
    ")\n",
    "\n",
    "# Output resulting dataframe\n",
    "df"
   ]
  },
  {
   "cell_type": "markdown",
   "metadata": {},
   "source": [
    "# Access to other API's via the JWT Token\n",
    "***"
   ]
  },
  {
   "cell_type": "markdown",
   "metadata": {},
   "source": [
    "***Before accessing the other APIs, you need to get a JWT token. This acts as an added layer of security***"
   ]
  },
  {
   "cell_type": "markdown",
   "metadata": {},
   "source": [
    "Excerpt from Kaizen Documentation:\n",
    "><h2 id=\"Get_JWT_Token\"> Get JWT Token </h2>\n",
    "><p></p>\n",
    ">First, the identity of the user must be confirmed to ensure that site data is going into the right hands. This is done through the production of an Auth0 JWT token.\n",
    "><p></p>\n",
    ">Reach out to <a href=\"mailto:customersolutions@coppertreeanalytics.com\">customersolutions@coppertreeanalytics.com</a> and mention that you would like to work with the Insights API. You will receive a Client_ID and Client_Secret; use these parameters with the following cURL command to produce the token:\n",
    "><pre>curl --request POST \\ \n",
    ">     --url https://login-global.coppertreeanalytics.com/oauth/token\n",
    ">     --header \"content-type: application/x-www-form-urlencoded\"\n",
    ">     --data \"grant_type=client_credentials\"\n",
    ">     --data \"client_id=&lt;client_id&gt;\"\n",
    ">     --data \"client_secret=&lt;client_secret&gt;\"\n",
    ">     --data \"audience=organize\"\n",
    "></pre>\n",
    "><p></p>\n",
    ">Once a user acquires a token, they can use it to pull data\n",
    "><p></p>"
   ]
  },
  {
   "cell_type": "markdown",
   "metadata": {},
   "source": [
    "### Python Implamentation:"
   ]
  },
  {
   "cell_type": "code",
   "execution_count": null,
   "metadata": {},
   "outputs": [],
   "source": [
    "# Request access token using client_id, and client_secret\n",
    "url = 'https://login-ca-central-prod.coppertreeanalytics.com/oauth2/token'\n",
    "\n",
    "my_header = {'content-type': 'application/x-www-form-urlencoded'}\n",
    "my_data = {\n",
    "    'grant_type': 'client_credentials',\n",
    "    'client_id': client_id,\n",
    "    'client_secret': client_secret,\n",
    "    'audience': 'organize'\n",
    "}\n",
    "r = requests.post(url, headers=my_header, data=my_data)\n",
    "check_response(r)\n",
    "access_token = r.json()['access_token']\n",
    "\n",
    "# Save in jWt header fomrat\n",
    "jwt_header = {'Authorization': 'Bearer ' + access_token}\n",
    "print('Access token has been obtained')"
   ]
  },
  {
   "cell_type": "markdown",
   "metadata": {},
   "source": [
    "# Get list of trend logs\n",
    "***"
   ]
  },
  {
   "cell_type": "markdown",
   "metadata": {},
   "source": [
    "Excerpt from Kaizen Documentation:\n",
    "><h3 id=\"To_get_a_list_of_trend_logs_for_a_building:\"> To get a list of trend logs for a building: </h3>\n",
    "><pre>https://kaizen.coppertreeanalytics.com/api/v3/trend_log_objects/?building={};\n",
    "></pre>\n",
    ">where: <ul>\n",
    "><li> <building_id> is the id for the building.\n",
    "></building_id></li> <li> Make sure to add an authorization header:\n",
    "></li> <li> \"Authorization token <api_key>\" where <api_key> is the user's Kaizen Key\n",
    "></api_key></api_key></li> <li> Pagination: <ul>\n",
    "><li> Add \"&amp;page={page_number}\" where page_number is the page you want to view.\n",
    "><li> Add \"&amp;page_size={page size}\" where page size is the number of sensors that apear per page.\n",
    "></page_number></li></ul>\n",
    "></li></ul>\n",
    "><p></p>\n",
    "><h4 id=\"Curl_Example:_AN1\"> Curl Example: </h4>\n",
    "><pre>curl -H \"Authorization: token &lt;api_key&gt;” “https://kaizen.coppertreeanalytics.com/api/v3/trend_log_objects/?building=&lt;building_id&gt;&amp;page=1”\n",
    "></pre>"
   ]
  },
  {
   "cell_type": "markdown",
   "metadata": {},
   "source": [
    "### Update:\n",
    ">replace:\n",
    "><pre>https://kaizen.coppertreeanalytics.com/api/v3/trend_log_objects/?building={}</pre>\n",
    ">with\n",
    "><pre>https://kaizen.coppertreeanalytics.com/yana/mongo/objects/?building={}&object_type=TL&min_device_index=1</pre>\n",
    ">*Note: records with min_device_index of 0 (less than one) are built in kaizen analytics*"
   ]
  },
  {
   "cell_type": "markdown",
   "metadata": {},
   "source": [
    "### Python Implamentation"
   ]
  },
  {
   "cell_type": "code",
   "execution_count": null,
   "metadata": {},
   "outputs": [],
   "source": [
    "# Example inputs\n",
    "building_number = 3950 # Building\n",
    "\n",
    "# Set up URL\n",
    "url = f'https://kaizen.coppertreeanalytics.com/yana/mongo/objects/?building={building_number}&object_type=TL&min_device_index=1'\n",
    "\n",
    "# Perform API Call\n",
    "r = requests.get(url, headers=jwt_header)\n",
    "check_response(r)\n",
    "\n",
    "# Check response and print results\n",
    "print_n_lines(r.json(), n_lines=50)"
   ]
  },
  {
   "cell_type": "markdown",
   "metadata": {},
   "source": [
    "<font color=red> ***Note: not all trend logs were returned in a single call, you must set page size accordingly (see work flow 1 as an example)*** </font>"
   ]
  },
  {
   "cell_type": "markdown",
   "metadata": {},
   "source": [
    "# Get List of Systems and Subordinates\n",
    "***"
   ]
  },
  {
   "cell_type": "markdown",
   "metadata": {},
   "source": [
    "Excerpt from Kaizen Documentation:\n",
    "><h3 id=\"Get_data_from_the_Systems_feature\"> Get data from the Systems feature </h3>\n",
    "><p></p>\n",
    ">To get a list of all Systems you can use this resource:<br>\n",
    "><a class=\"natExternalLink\" href=\"https://kaizen.coppertreeanalytics.com/api/v3/systems/?building=[building_id]\" target=\"_blank\" rel=\"noopener noreferrer\">https://kaizen.coppertreeanalytics.com/api/v3/systems/?building=[building_id]</a> where the Building_ID can be found in the URL of any page in the Building.<br>\n",
    "><strong>This endpoint uses pagination. Each call returns 500 results.</strong>\n",
    "><p></p>\n",
    "><h3 id=\"Example_API_call\"> Example API call </h3>\n",
    "><p></p>\n",
    ">cURL Example to get a list of all Systems:\n",
    "><pre>curl --request GET \\\n",
    ">     --url https://kaizen.coppertreeanalytics.com/api/v3/systems/?building=2156 \\\n",
    ">     --header \"Authorization: Bearer &lt;jwt access_token&gt;\"\n",
    "></pre>"
   ]
  },
  {
   "cell_type": "markdown",
   "metadata": {},
   "source": [
    "### Update:\n",
    ">replace:\n",
    "><pre>https://kaizen.coppertreeanalytics.com/api/v3/systems/?building=2156</pre>\n",
    ">with\n",
    "><pre>https://kaizen.coppertreeanalytics.com/yana/mongo/systems/?building=2156</pre>"
   ]
  },
  {
   "cell_type": "markdown",
   "metadata": {},
   "source": [
    "### Python Implamentation:"
   ]
  },
  {
   "cell_type": "code",
   "execution_count": null,
   "metadata": {
    "scrolled": false
   },
   "outputs": [],
   "source": [
    "# Example inputs\n",
    "building_number = 3951 # Building\n",
    "\n",
    "url = f'https://kaizen.coppertreeanalytics.com/yana/mongo/systems/?building={building_number}'\n",
    "\n",
    "r = requests.get(url, headers=jwt_header)\n",
    "check_response(r)\n",
    "\n",
    "# Print first n lines of output\n",
    "print_n_lines(r.json(), n_lines=100)"
   ]
  },
  {
   "cell_type": "markdown",
   "metadata": {},
   "source": [
    "<font color=red> ***Note: not all systems were returned in a single call, to get full list you must cycle through pages (see work flow 2 as an example)*** </font>"
   ]
  },
  {
   "cell_type": "markdown",
   "metadata": {},
   "source": [
    "Other available options related to system searches <font color=red>(warning: this information may now be outdated)<font>\n",
    "><pre>\n",
    ">GET https://kaizen.coppertreeanalytics.com/api/v3/systems/?building={bldg}\n",
    "># Get systems of a building with default page_size=10\n",
    "># Default sort, device_index ascending and object_type ascending\n",
    ">\n",
    ">GET https://kaizen.coppertreeanalytics.com/api/v3/systems/?building={bldg}&search=valve\n",
    "># Get systems of building which 'Tags', 'Subordinate_Tags', 'Subordinate_List' has \"valve\"\n",
    ">\n",
    ">GET https://kaizen.coppertreeanalytics.com/api/v3/systems/?building={bldg}&ordering=-device_index\n",
    "># Get systems of a building with device_index descending order\n",
    ">\n",
    ">GET https://kaizen.coppertreeanalytics.com/api/v3/systems/?building={bldg}&device_index=0\n",
    "># Get systems whose device_index is 0\n",
    ">\n",
    ">GET https://kaizen.coppertreeanalytics.com/api/v3/systems/?building={bldg}&page_size=20\n",
    "># Get systems of a building with page_size=20\n",
    "></pre>"
   ]
  },
  {
   "cell_type": "markdown",
   "metadata": {},
   "source": [
    "# Example Workflows\n",
    "___"
   ]
  },
  {
   "cell_type": "markdown",
   "metadata": {},
   "source": [
    "### Workflow 1"
   ]
  },
  {
   "cell_type": "markdown",
   "metadata": {},
   "source": [
    "Use api to list your needed trend logs. This is done by getting a list of all trend logs and then filtering as needed. This is particularly useful when you need to get a long list of trend logs, where Kaizens build in search functionality can be particularly limiting."
   ]
  },
  {
   "cell_type": "code",
   "execution_count": null,
   "metadata": {},
   "outputs": [],
   "source": [
    "# Example inputs\n",
    "building_number = 5606 # Building\n",
    "search_term = 'VAV_FLOW_TL' # Keyword search term"
   ]
  },
  {
   "cell_type": "code",
   "execution_count": null,
   "metadata": {},
   "outputs": [],
   "source": [
    "\n",
    "# Initial API query gets sensor count\n",
    "url = f'https://kaizen.coppertreeanalytics.com/yana/mongo/objects/?' \\\n",
    "        f'building={building_number}&object_type=TL&min_device_index=1&page_size=1'\n",
    "\n",
    "r = requests.get(url, headers=jwt_header)\n",
    "count = r.json()['meta']['pagination']['count']\n",
    "\n",
    "# Second API query gets full sensor list\n",
    "url = f'https://kaizen.coppertreeanalytics.com/yana/mongo/objects/?' \\\n",
    "        f'building={building_number}&object_type=TL&min_device_index=1&page_size={count}'\n",
    "\n",
    "r = requests.get(url, headers=jwt_header)\n",
    "\n",
    "# Convert to pandas dataframe\n",
    "df = pd.DataFrame.from_dict(r.json()['results'])[['_id', 'Object_Name']]\n",
    "df"
   ]
  },
  {
   "cell_type": "code",
   "execution_count": null,
   "metadata": {},
   "outputs": [],
   "source": [
    "# Filter based on keyword\n",
    "df_filtered = df[df['Object_Name'].str.contains(search_term)].reset_index(drop=True)\n",
    "\n",
    "# The download using the batch API puller\n",
    "trend_log_data = API_puller(\n",
    "    trend_log_list=df_filtered,\n",
    "    API_key=api_key,\n",
    "    date_range=['2019-01-01', '2020-01-01'],\n",
    "    resample=15\n",
    ")"
   ]
  },
  {
   "cell_type": "code",
   "execution_count": null,
   "metadata": {
    "scrolled": false
   },
   "outputs": [],
   "source": [
    "# Plot data retrieved from the API\n",
    "ax = trend_log_data.plot(figsize=(15,8), title='Data downloaded from API', ylabel='Flow (L/s)')\n",
    "ax.legend(loc='lower center', bbox_to_anchor=(0.5, -0.7), ncol=4, fancybox=True, shadow=True);"
   ]
  },
  {
   "cell_type": "markdown",
   "metadata": {},
   "source": [
    "#### Ideas for future implementation:\n",
    " - Incorporate \"Notify_Type\" Parameter to differentiate handing of event based and time step based recordings\n",
    " - Use units to classify sensors"
   ]
  },
  {
   "cell_type": "markdown",
   "metadata": {},
   "source": [
    "### Workflow 2\n",
    "Use api to access systems and subordinates using tags."
   ]
  },
  {
   "cell_type": "code",
   "execution_count": null,
   "metadata": {},
   "outputs": [],
   "source": [
    "# Example inputs\n",
    "building_number = 3951 # Building\n",
    "search_term = 'Mixed Air Temperature' # system search term"
   ]
  },
  {
   "cell_type": "code",
   "execution_count": null,
   "metadata": {
    "scrolled": false
   },
   "outputs": [],
   "source": [
    "# Initial API query gets system count\n",
    "url = f'https://kaizen.coppertreeanalytics.com/yana/mongo/systems/?building={building_number}&page_size=1'\n",
    "\n",
    "r = requests.get(url, headers=jwt_header)\n",
    "count = r.json()['meta']['pagination']['count']\n",
    "\n",
    "# Second API query gets full systems list\n",
    "url = f'https://kaizen.coppertreeanalytics.com/yana/mongo/systems/?building={building_number}&page_size={count}'\n",
    "\n",
    "r = requests.get(url, headers=jwt_header)\n",
    "\n",
    "# Convert to dataframe\n",
    "df = pd.json_normalize(r.json()['results'])\n",
    "df"
   ]
  },
  {
   "cell_type": "code",
   "execution_count": null,
   "metadata": {
    "scrolled": false
   },
   "outputs": [],
   "source": [
    "# Explode subordinates \n",
    "df = pd.json_normalize(r.json()['results'])\n",
    "df = df.apply(lambda x: x.explode() if x.name in ['Subordinate_Annotations', 'Subordinate_List', 'Subordinate_Tags'] else x)\n",
    "\n",
    "# Search using subordinate_tags properties\n",
    "df_filtered = df[df['Subordinate_Tags']==search_term]\n",
    "df_filtered = df_filtered.drop_duplicates(subset='Subordinate_List', keep=\"first\")\n",
    "df_filtered = df_filtered[['Subordinate_List', 'Subordinate_Annotations']]\n",
    "df_filtered['Subordinate_List'] = str(building_number) + '.' + df_filtered['Subordinate_List'].astype(str)\n",
    "df_filtered"
   ]
  },
  {
   "cell_type": "code",
   "execution_count": null,
   "metadata": {},
   "outputs": [],
   "source": [
    "# The download using the batch API puller\n",
    "system_keyword_search = API_puller(\n",
    "    trend_log_list=df_filtered,\n",
    "    API_key=api_key,\n",
    "    date_range=['2019-01-01', '2020-01-01'],\n",
    "    resample=15\n",
    ")"
   ]
  },
  {
   "cell_type": "code",
   "execution_count": null,
   "metadata": {},
   "outputs": [],
   "source": [
    "# Plot data retrieved from the API\n",
    "ax = system_keyword_search.plot(figsize=(15,8), title='Data downloaded from API', ylabel='Mixed Air Temperature (°C)')\n",
    "ax.legend(loc='lower center', bbox_to_anchor=(0.5, -0.3), ncol=4, fancybox=True, shadow=True);"
   ]
  },
  {
   "cell_type": "markdown",
   "metadata": {},
   "source": [
    "#### Ideas for future implementation:\n",
    " - Organize API calls based on system hierarchy"
   ]
  }
 ],
 "metadata": {
  "kernelspec": {
   "display_name": "Python 3.10.4 ('research_base')",
   "language": "python",
   "name": "python3"
  },
  "language_info": {
   "codemirror_mode": {
    "name": "ipython",
    "version": 3
   },
   "file_extension": ".py",
   "mimetype": "text/x-python",
   "name": "python",
   "nbconvert_exporter": "python",
   "pygments_lexer": "ipython3",
   "version": "3.9.17"
  },
  "vscode": {
   "interpreter": {
    "hash": "c94a44f072beb3e041c1df62577c7214cc913be99bc06bdfd73c311546ba63f6"
   }
  }
 },
 "nbformat": 4,
 "nbformat_minor": 4
}
